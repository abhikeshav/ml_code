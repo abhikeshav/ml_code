{
  "nbformat": 4,
  "nbformat_minor": 0,
  "metadata": {
    "colab": {
      "provenance": [],
      "authorship_tag": "ABX9TyMhM6R7rK+eS80cVuamvliH"
    },
    "kernelspec": {
      "name": "python3",
      "display_name": "Python 3"
    },
    "language_info": {
      "name": "python"
    }
  },
  "cells": [
    {
      "cell_type": "code",
      "execution_count": null,
      "metadata": {
        "id": "034l4q0I13QZ",
        "outputId": "bece0d05-69ce-41ea-a466-797f236dc15f",
        "colab": {
          "base_uri": "https://localhost:8080/"
        }
      },
      "outputs": [
        {
          "output_type": "stream",
          "name": "stdout",
          "text": [
            "Path to dataset files: /kaggle/input/188-million-us-wildfires\n"
          ]
        }
      ],
      "source": [
        "import kagglehub\n",
        "\n",
        "# Download latest version\n",
        "path = kagglehub.dataset_download(\"rtatman/188-million-us-wildfires\")\n",
        "\n",
        "print(\"Path to dataset files:\", path)"
      ]
    },
    {
      "cell_type": "code",
      "source": [
        "from scipy.stats import binom\n",
        "print('cdf', binom.cdf(k=1,n=10,p=0.5))\n",
        "print('pmf', binom.pmf(k=1,n=10,p=0.5))\n",
        "#print('ppf', binom.ppf(k=1,n=10,p=0.5))\n",
        "print('sf', binom.sf(k=1,n=10,p=0.5))\n",
        "print('stats', binom.stats(n=10,p=0.5, moments='mvsk'))\n",
        "print('rvs', binom.rvs(n=10,p=0.5,random_state=42))"
      ],
      "metadata": {
        "colab": {
          "base_uri": "https://localhost:8080/"
        },
        "id": "rXUiH9Tap4Rh",
        "outputId": "70732ddc-6bea-4d74-eeac-94400de2fa6f"
      },
      "execution_count": null,
      "outputs": [
        {
          "output_type": "stream",
          "name": "stdout",
          "text": [
            "cdf 0.0107421875\n",
            "pmf 0.009765625000000002\n",
            "sf 0.9892578125\n",
            "stats (np.float64(5.0), np.float64(2.5), np.float64(0.0), np.float64(-0.19999999999999996))\n",
            "rvs 4\n"
          ]
        }
      ]
    },
    {
      "cell_type": "code",
      "source": [
        "from scipy import stats\n",
        "\n",
        "# one-sample t test. conf level 95%\n",
        "miles_before_wear = [380,410,395,405,390]\n",
        "n=len(miles_before_wear)\n",
        "alpha = 0.05\n",
        "pop_mean = 400\n",
        "\n",
        "# H0: sample is same as population. Ha: sample is different from population\n",
        "import numpy as np\n",
        "\n",
        "sample_mean = np.mean(miles_before_wear)\n",
        "print(sample_mean)\n",
        "sample_std = np.std(miles_before_wear, ddof=1)\n",
        "print(sample_std)\n",
        "\n",
        "t_statistic =  (sample_mean - pop_mean) / (sample_std / np.sqrt(n))\n",
        "print(t_statistic)\n",
        "\n",
        "degrees_of_freedom = n - 1\n",
        "\n",
        "p_value = 2 * (1 - stats.t.cdf(abs(t_statistic), df=degrees_of_freedom))\n",
        "print(p_value)"
      ],
      "metadata": {
        "colab": {
          "base_uri": "https://localhost:8080/"
        },
        "id": "wO7sdOge9AMX",
        "outputId": "b1a56148-127d-45a3-d46c-aa3a4c5d3ad3"
      },
      "execution_count": null,
      "outputs": [
        {
          "output_type": "stream",
          "name": "stdout",
          "text": [
            "396.0\n",
            "11.937336386313323\n",
            "-0.7492686492653552\n",
            "0.4953543088910324\n"
          ]
        }
      ]
    },
    {
      "cell_type": "code",
      "source": [
        "t_stat, p_val = stats.ttest_1samp(miles_before_wear, pop_mean)\n",
        "print(t_stat, p_val )"
      ],
      "metadata": {
        "colab": {
          "base_uri": "https://localhost:8080/"
        },
        "id": "iexeKRx6P1AN",
        "outputId": "e086d503-848c-4823-96e8-2af12bfc668c"
      },
      "execution_count": null,
      "outputs": [
        {
          "output_type": "stream",
          "name": "stdout",
          "text": [
            "-0.7492686492653552 0.4953543088910324\n"
          ]
        }
      ]
    },
    {
      "cell_type": "code",
      "source": [
        "# Sample data: Hat sizes\n",
        "np.random.seed(42)\n",
        "sample_hat_sizes = np.array([7.4, 7.6, 7.7, 7.3, 7.5, 7.8, 7.6])\n",
        "sample_mean = np.mean(sample_hat_sizes)\n",
        "\n",
        "print(sample_mean)"
      ],
      "metadata": {
        "colab": {
          "base_uri": "https://localhost:8080/"
        },
        "id": "C3LkjH8mUrkq",
        "outputId": "4e0145f4-be9d-450c-b2a0-aecc0e77ce37"
      },
      "execution_count": null,
      "outputs": [
        {
          "output_type": "stream",
          "name": "stdout",
          "text": [
            "7.557142857142857\n"
          ]
        }
      ]
    },
    {
      "cell_type": "code",
      "source": [
        "np.random.seed(42)\n",
        "pop_mean = 50\n",
        "n=30\n",
        "choc_sizes=  np.random.uniform(low=45, high=55, size=n)\n",
        "choc_sizes"
      ],
      "metadata": {
        "colab": {
          "base_uri": "https://localhost:8080/"
        },
        "id": "Mts2l5CrCy5d",
        "outputId": "2ebe58ec-d222-4d1b-8914-577d305a47f8"
      },
      "execution_count": null,
      "outputs": [
        {
          "output_type": "execute_result",
          "data": {
            "text/plain": [
              "array([48.74540119, 54.50714306, 52.31993942, 50.98658484, 46.5601864 ,\n",
              "       46.5599452 , 45.58083612, 53.66176146, 51.01115012, 52.08072578,\n",
              "       45.20584494, 54.69909852, 53.32442641, 47.12339111, 46.81824967,\n",
              "       46.8340451 , 48.04242243, 50.24756432, 49.31945019, 47.9122914 ,\n",
              "       51.11852895, 46.39493861, 47.92144649, 48.66361843, 49.56069984,\n",
              "       52.85175961, 46.99673782, 50.14234438, 50.92414569, 45.46450413])"
            ]
          },
          "metadata": {},
          "execution_count": 63
        }
      ]
    },
    {
      "cell_type": "code",
      "source": [
        "\n",
        "sample_mean = np.mean(choc_sizes)\n",
        "print(sample_mean)\n",
        "sample_std_dev = np.std(choc_sizes, ddof=1)\n",
        "print(sample_std_dev)"
      ],
      "metadata": {
        "colab": {
          "base_uri": "https://localhost:8080/"
        },
        "id": "47UGNaIIDqJ2",
        "outputId": "532c0488-3a62-4db9-fc34-42d114456a8a"
      },
      "execution_count": null,
      "outputs": [
        {
          "output_type": "stream",
          "name": "stdout",
          "text": [
            "49.385972720974365\n",
            "2.824075131183581\n"
          ]
        }
      ]
    },
    {
      "cell_type": "code",
      "source": [
        "t_stat = (sample_mean-pop_mean)/(sample_std_dev/np.sqrt(n))\n",
        "print(t_stat)\n",
        "\n",
        "ddof = n-1\n",
        "p_val = 2*(1-stats.t.cdf(abs(t_stat), df=ddof))\n",
        "print(p_val)"
      ],
      "metadata": {
        "colab": {
          "base_uri": "https://localhost:8080/"
        },
        "id": "GFkZ_Y6ID31F",
        "outputId": "7e7b5456-4e7a-45db-fcb3-01d6be50769d"
      },
      "execution_count": null,
      "outputs": [
        {
          "output_type": "stream",
          "name": "stdout",
          "text": [
            "-1.1908910918559992\n",
            "0.24335299257158716\n"
          ]
        }
      ]
    },
    {
      "cell_type": "code",
      "source": [
        "t_stat, p_val = stats.ttest_1samp(choc_sizes, pop_mean)"
      ],
      "metadata": {
        "id": "qSpic7bAE3Mt"
      },
      "execution_count": null,
      "outputs": []
    },
    {
      "cell_type": "code",
      "source": [
        "print(t_stat, p_val)"
      ],
      "metadata": {
        "colab": {
          "base_uri": "https://localhost:8080/"
        },
        "id": "6sr-uE4hF5O2",
        "outputId": "d2c81288-187e-4181-9215-e87850b5793e"
      },
      "execution_count": null,
      "outputs": [
        {
          "output_type": "stream",
          "name": "stdout",
          "text": [
            "-1.190891091855999 0.24335299257158724\n"
          ]
        }
      ]
    },
    {
      "cell_type": "code",
      "source": [
        "# Unequal variance\n",
        "s1 = [50,49,50,52,49,49,52,51,48,50]\n",
        "s2 = [58,58,61,50,51,57,55,62,55,53]\n",
        "s1mean = np.mean(s1)\n",
        "s2mean = np.mean(s2)\n",
        "print(s1mean, s2mean)"
      ],
      "metadata": {
        "colab": {
          "base_uri": "https://localhost:8080/"
        },
        "id": "YLexyDdJS2Wq",
        "outputId": "e62b2d06-ee77-47d9-e2bc-d6226aeedbf1"
      },
      "execution_count": null,
      "outputs": [
        {
          "output_type": "stream",
          "name": "stdout",
          "text": [
            "50.0 56.0\n"
          ]
        }
      ]
    },
    {
      "cell_type": "code",
      "source": [
        "test_stat,pval = stats.levene(s1,s2)\n",
        "print(test_stat,pval)"
      ],
      "metadata": {
        "colab": {
          "base_uri": "https://localhost:8080/"
        },
        "id": "rqDj9y-PTtOJ",
        "outputId": "53c7562d-acfd-4a4d-fb16-7084da5de7c1"
      },
      "execution_count": null,
      "outputs": [
        {
          "output_type": "stream",
          "name": "stdout",
          "text": [
            "9.552631578947368 0.0063058213594115705\n"
          ]
        }
      ]
    },
    {
      "cell_type": "code",
      "source": [
        "n=len(s1)"
      ],
      "metadata": {
        "id": "sqi80rKiT2MK"
      },
      "execution_count": null,
      "outputs": []
    },
    {
      "cell_type": "code",
      "source": [
        "t_stat, pval = stats.ttest_ind(s1,s2,equal_var=False)"
      ],
      "metadata": {
        "id": "yvhwbQ4UZuWt"
      },
      "execution_count": null,
      "outputs": []
    },
    {
      "cell_type": "code",
      "source": [
        "print(t_stat, pval)"
      ],
      "metadata": {
        "id": "a2SOVgp1aYTk",
        "outputId": "7da640c5-5ea6-4d36-8985-cc81b4c93b32",
        "colab": {
          "base_uri": "https://localhost:8080/"
        }
      },
      "execution_count": null,
      "outputs": [
        {
          "output_type": "stream",
          "name": "stdout",
          "text": [
            "-4.528391448839648 0.0008595620626987004\n"
          ]
        }
      ]
    },
    {
      "cell_type": "code",
      "source": [
        "from scipy import stats\n",
        "uniform_data = stats.uniform.rvs(size=10000, loc=0, scale=10)\n",
        "binomial_data = stats.binom.rvs(size=10000, n=10000, p=0.5)"
      ],
      "metadata": {
        "id": "bdcI7DBjabJr"
      },
      "execution_count": null,
      "outputs": []
    },
    {
      "cell_type": "code",
      "source": [
        "import pandas as pd\n",
        "\n",
        "df = pd.DataFrame(uniform_data,columns=['uniform'])\n",
        "df.plot(kind='density',xlim=(-5,15))"
      ],
      "metadata": {
        "colab": {
          "base_uri": "https://localhost:8080/",
          "height": 447
        },
        "id": "qawHCxmRdbV9",
        "outputId": "ed6a45e2-101f-406f-8b1f-c44514d990ff"
      },
      "execution_count": null,
      "outputs": [
        {
          "output_type": "execute_result",
          "data": {
            "text/plain": [
              "<Axes: ylabel='Density'>"
            ]
          },
          "metadata": {},
          "execution_count": 2
        },
        {
          "output_type": "display_data",
          "data": {
            "text/plain": [
              "<Figure size 640x480 with 1 Axes>"
            ],
            "image/png": "[encoded data removed]"
          },
          "metadata": {}
        }
      ]
    },
    {
      "cell_type": "code",
      "source": [
        "dfb = pd.DataFrame(binomial_data,columns=['binomial'])\n",
        "dfb.plot(kind='density',xlim=(0,10000))"
      ],
      "metadata": {
        "colab": {
          "base_uri": "https://localhost:8080/",
          "height": 447
        },
        "id": "SjcCUbKvK9iW",
        "outputId": "8f9c9d02-0c0d-432c-c1ef-6372ce7b1025"
      },
      "execution_count": null,
      "outputs": [
        {
          "output_type": "execute_result",
          "data": {
            "text/plain": [
              "<Axes: ylabel='Density'>"
            ]
          },
          "metadata": {},
          "execution_count": 5
        },
        {
          "output_type": "display_data",
          "data": {
            "text/plain": [
              "<Figure size 640x480 with 1 Axes>"
            ],
            "image/png": "[encoded data removed]"
          },
          "metadata": {}
        }
      ]
    },
    {
      "cell_type": "code",
      "source": [
        "import seaborn as sns\n",
        "sns.kdeplot(df.uniform)"
      ],
      "metadata": {
        "colab": {
          "base_uri": "https://localhost:8080/",
          "height": 467
        },
        "id": "gzjavcvpdot8",
        "outputId": "ad77353f-0994-4f4c-8769-e62c779679f9"
      },
      "execution_count": null,
      "outputs": [
        {
          "output_type": "execute_result",
          "data": {
            "text/plain": [
              "<Axes: xlabel='uniform', ylabel='Density'>"
            ]
          },
          "metadata": {},
          "execution_count": 6
        },
        {
          "output_type": "display_data",
          "data": {
            "text/plain": [
              "<Figure size 640x480 with 1 Axes>"
            ],
            "image/png": "[encoded data removed]"
          },
          "metadata": {}
        }
      ]
    },
    {
      "cell_type": "code",
      "source": [
        "stats.uniform.cdf(x=2.5, loc=0,scale=10)"
      ],
      "metadata": {
        "id": "-XwmchnyepJG",
        "colab": {
          "base_uri": "https://localhost:8080/"
        },
        "outputId": "06c4cef1-a8d4-4496-e9ae-f9b26aae2807"
      },
      "execution_count": null,
      "outputs": [
        {
          "output_type": "execute_result",
          "data": {
            "text/plain": [
              "np.float64(0.25)"
            ]
          },
          "metadata": {},
          "execution_count": 9
        }
      ]
    },
    {
      "cell_type": "code",
      "source": [
        "stats.uniform.ppf(q=0.4, loc=0,scale=10)"
      ],
      "metadata": {
        "colab": {
          "base_uri": "https://localhost:8080/"
        },
        "id": "62bUslpij_4_",
        "outputId": "371edaf3-4186-47f7-8aa2-0cf3d15fb3d6"
      },
      "execution_count": null,
      "outputs": [
        {
          "output_type": "execute_result",
          "data": {
            "text/plain": [
              "np.float64(4.0)"
            ]
          },
          "metadata": {},
          "execution_count": 10
        }
      ]
    },
    {
      "cell_type": "code",
      "source": [
        "stats.uniform.pdf(-1, loc=0, scale=10)"
      ],
      "metadata": {
        "colab": {
          "base_uri": "https://localhost:8080/"
        },
        "id": "wjb_S1b9pMhl",
        "outputId": "c0413210-1e87-47c4-969b-8cedaeab5ed9"
      },
      "execution_count": null,
      "outputs": [
        {
          "output_type": "execute_result",
          "data": {
            "text/plain": [
              "np.float64(0.0)"
            ]
          },
          "metadata": {},
          "execution_count": 11
        }
      ]
    },
    {
      "cell_type": "code",
      "source": [
        "stats.uniform.pdf(4, loc=0, scale=10)"
      ],
      "metadata": {
        "colab": {
          "base_uri": "https://localhost:8080/"
        },
        "id": "xQFlYAx0pMib",
        "outputId": "c1e1c96b-f718-4026-d6f1-8281216cde94"
      },
      "execution_count": null,
      "outputs": [
        {
          "output_type": "execute_result",
          "data": {
            "text/plain": [
              "np.float64(0.1)"
            ]
          },
          "metadata": {},
          "execution_count": 12
        }
      ]
    },
    {
      "cell_type": "code",
      "source": [
        "stats.uniform.pdf(11, loc=0, scale=10)"
      ],
      "metadata": {
        "colab": {
          "base_uri": "https://localhost:8080/"
        },
        "id": "nZE1ikPFqMr8",
        "outputId": "ace48f9a-b3a8-4b4a-f838-9b45db919556"
      },
      "execution_count": null,
      "outputs": [
        {
          "output_type": "execute_result",
          "data": {
            "text/plain": [
              "np.float64(0.0)"
            ]
          },
          "metadata": {},
          "execution_count": 13
        }
      ]
    },
    {
      "cell_type": "code",
      "source": [
        "for x in range(-1,12):\n",
        "    print(x, '->', stats.uniform.pdf(x, loc=0, scale=10))"
      ],
      "metadata": {
        "colab": {
          "base_uri": "https://localhost:8080/"
        },
        "id": "U-pDLczzqQVb",
        "outputId": "5f57d22a-9c2d-4eff-b607-751d08b95fb1"
      },
      "execution_count": null,
      "outputs": [
        {
          "output_type": "stream",
          "name": "stdout",
          "text": [
            "-1 -> 0.0\n",
            "0 -> 0.1\n",
            "1 -> 0.1\n",
            "2 -> 0.1\n",
            "3 -> 0.1\n",
            "4 -> 0.1\n",
            "5 -> 0.1\n",
            "6 -> 0.1\n",
            "7 -> 0.1\n",
            "8 -> 0.1\n",
            "9 -> 0.1\n",
            "10 -> 0.1\n",
            "11 -> 0.0\n"
          ]
        }
      ]
    },
    {
      "cell_type": "code",
      "source": [
        "p=stats.bi"
      ],
      "metadata": {
        "id": "kklHBd5-KEKh"
      },
      "execution_count": null,
      "outputs": []
    },
    {
      "cell_type": "code",
      "source": [
        "import numpy as np\n",
        "import seaborn as sns\n",
        "\n",
        "np.random.seed(42)\n",
        "# create binom in numpy\n",
        "p_success = 0.025\n",
        "n_trials_subs = 1000\n",
        "size_videos = 100\n",
        "\n",
        "np_samples = np.random.binomial(n=n_trials_subs, p = p_success, size=size_videos)\n",
        "print(len(np_samples), np_samples)"
      ],
      "metadata": {
        "colab": {
          "base_uri": "https://localhost:8080/"
        },
        "id": "-uxUWwZvLsdl",
        "outputId": "dbf0e52a-5a89-4936-f926-005eb25bb026"
      },
      "execution_count": null,
      "outputs": [
        {
          "output_type": "stream",
          "name": "stdout",
          "text": [
            "100 [23 33 28 26 20 20 17 30 26 28 15 35 30 21 20 21 22 25 24 22 26 20 22 23\n",
            " 24 29 21 25 26 17 26 20 18 33 34 29 22 19 27 24 19 25 16 32 22 27 22 25\n",
            " 25 21 35 29 33 31 26 32 18 21 17 23 23 22 30 23 22 25 20 29 18 37 29 21\n",
            " 13 29 28 28 29 18 23 19 30 26 23 18 22 23 28 27 31 24 19 28 28 26 29 25\n",
            " 25 24 16 19]\n"
          ]
        }
      ]
    },
    {
      "cell_type": "code",
      "source": [
        "p_success_coin = 0.5\n",
        "n_trials_coin = 50\n",
        "size_coin_flips=25\n",
        "scipy_samples = stats.binom.rvs(n=n_trials_coin, p=p_success_coin, size=size_coin_flips)\n",
        "print(len(scipy_samples), scipy_samples)"
      ],
      "metadata": {
        "colab": {
          "base_uri": "https://localhost:8080/"
        },
        "id": "myXcX4a8NB42",
        "outputId": "14843dd2-b909-4f49-c9e4-d84caf493d7b"
      },
      "execution_count": null,
      "outputs": [
        {
          "output_type": "stream",
          "name": "stdout",
          "text": [
            "25 [24 28 29 16 25 24 22 21 24 31 23 25 27 24 32 31 23 25 23 23 19 26 25 19\n",
            " 23]\n"
          ]
        }
      ]
    },
    {
      "cell_type": "code",
      "source": [
        "#pmf -> probability of exact occurences\n",
        "print(stats.binom.pmf(n=n_trials_coin, k=size_coin_flips, p=p_success_coin))\n",
        "print(stats.binom.pmf(n=n_trials_subs, k=size_videos, p=p_success))"
      ],
      "metadata": {
        "colab": {
          "base_uri": "https://localhost:8080/"
        },
        "id": "hFXVe6TCPjsi",
        "outputId": "d230370b-fb25-4f1a-a754-eb0400236bea"
      },
      "execution_count": null,
      "outputs": [
        {
          "output_type": "stream",
          "name": "stdout",
          "text": [
            "0.11227517265921712\n",
            "5.0503256119648206e-31\n"
          ]
        }
      ]
    },
    {
      "cell_type": "code",
      "source": [
        "#CDF -> probability of less or equal to K occurences\n",
        "print(stats.binom.cdf(n=n_trials_coin, k=25, p=p_success_coin))\n",
        "print(stats.binom.cdf(n=n_trials_subs, k=25, p=p_success))"
      ],
      "metadata": {
        "colab": {
          "base_uri": "https://localhost:8080/"
        },
        "id": "E1DHJVVtQPwh",
        "outputId": "e3f483b2-25db-4051-825d-6193d6a1bbf8"
      },
      "execution_count": null,
      "outputs": [
        {
          "output_type": "stream",
          "name": "stdout",
          "text": [
            "0.5561375863296085\n",
            "0.5529256678756207\n"
          ]
        }
      ]
    },
    {
      "cell_type": "code",
      "source": [
        "import matplotlib.pyplot as plt\n",
        "plt.figure(figsize=(8,6))\n",
        "plt.hist(scipy_samples, bins=10, color='skyblue',edgecolor='black')\n",
        "plt.title('coin flips')\n",
        "plt.xlabel('Success')\n",
        "plt.ylabel('Frequency')"
      ],
      "metadata": {
        "colab": {
          "base_uri": "https://localhost:8080/",
          "height": 581
        },
        "id": "90F8d_zPThTt",
        "outputId": "41564f5d-cb36-42eb-8c83-5af96e4a222a"
      },
      "execution_count": null,
      "outputs": [
        {
          "output_type": "execute_result",
          "data": {
            "text/plain": [
              "Text(0, 0.5, 'Frequency')"
            ]
          },
          "metadata": {},
          "execution_count": 21
        },
        {
          "output_type": "display_data",
          "data": {
            "text/plain": [
              "<Figure size 800x600 with 1 Axes>"
            ],
            "image/png": "[encoded data removed]"
          },
          "metadata": {}
        }
      ]
    },
    {
      "cell_type": "code",
      "source": [
        "x=np.arange(0,n_trials_coin+1)\n",
        "pmf=stats.binom.pmf(x, n=n_trials_coin, p=p_success_coin)\n",
        "print(pmf)"
      ],
      "metadata": {
        "colab": {
          "base_uri": "https://localhost:8080/"
        },
        "id": "MDuGvIwoVEBn",
        "outputId": "c89f8216-13d4-429c-de6d-172ad82bbc9e"
      },
      "execution_count": null,
      "outputs": [
        {
          "output_type": "stream",
          "name": "stdout",
          "text": [
            "[8.88178420e-16 4.44089210e-14 1.08801856e-12 1.74082970e-11\n",
            " 2.04547490e-10 1.88183691e-09 1.41137768e-08 8.87151685e-08\n",
            " 4.76844031e-07 2.22527214e-06 9.12361579e-06 3.31767847e-05\n",
            " 1.07824550e-04 3.15179455e-04 8.32974273e-04 1.99913826e-03\n",
            " 4.37311493e-03 8.74622987e-03 1.60347548e-02 2.70059027e-02\n",
            " 4.18591493e-02 5.97987846e-02 7.88256707e-02 9.59616860e-02\n",
            " 1.07956897e-01 1.12275173e-01 1.07956897e-01 9.59616860e-02\n",
            " 7.88256707e-02 5.97987846e-02 4.18591493e-02 2.70059027e-02\n",
            " 1.60347548e-02 8.74622987e-03 4.37311493e-03 1.99913826e-03\n",
            " 8.32974273e-04 3.15179455e-04 1.07824550e-04 3.31767847e-05\n",
            " 9.12361579e-06 2.22527214e-06 4.76844031e-07 8.87151685e-08\n",
            " 1.41137768e-08 1.88183691e-09 2.04547490e-10 1.74082970e-11\n",
            " 1.08801856e-12 4.44089210e-14 8.88178420e-16]\n"
          ]
        }
      ]
    },
    {
      "cell_type": "code",
      "source": [
        "plt.figure(figsize=(8,6))\n",
        "plt.stem(x, pmf)\n",
        "plt.title('PMF coin flips')\n",
        "plt.xlabel('Success')\n",
        "plt.ylabel('Probability')"
      ],
      "metadata": {
        "colab": {
          "base_uri": "https://localhost:8080/",
          "height": 581
        },
        "id": "M_pqKKpmVbUz",
        "outputId": "ad6d3cf2-189f-4bff-a6e7-8bef94053c47"
      },
      "execution_count": null,
      "outputs": [
        {
          "output_type": "execute_result",
          "data": {
            "text/plain": [
              "Text(0, 0.5, 'Probability')"
            ]
          },
          "metadata": {},
          "execution_count": 25
        },
        {
          "output_type": "display_data",
          "data": {
            "text/plain": [
              "<Figure size 800x600 with 1 Axes>"
            ],
            "image/png": "[encoded data removed]"
          },
          "metadata": {}
        }
      ]
    },
    {
      "cell_type": "code",
      "source": [
        "cdf=stats.binom.cdf(x, n=n_trials_coin, p=p_success_coin)\n",
        "print(cdf)"
      ],
      "metadata": {
        "colab": {
          "base_uri": "https://localhost:8080/"
        },
        "id": "nloEbnu9WpnF",
        "outputId": "0a9f21f9-8c4d-479d-d85d-24b37f7b1fe8"
      },
      "execution_count": null,
      "outputs": [
        {
          "output_type": "stream",
          "name": "stdout",
          "text": [
            "[8.88178420e-16 4.52970994e-14 1.13331566e-12 1.85416127e-11\n",
            " 2.23089103e-10 2.10492601e-09 1.62187028e-08 1.04933871e-07\n",
            " 5.81777902e-07 2.80705005e-06 1.19306658e-05 4.51074505e-05\n",
            " 1.52932001e-04 4.68111455e-04 1.30108573e-03 3.30022398e-03\n",
            " 7.67333892e-03 1.64195688e-02 3.24543235e-02 5.94602263e-02\n",
            " 1.01319376e-01 1.61118160e-01 2.39943831e-01 3.35905517e-01\n",
            " 4.43862414e-01 5.56137586e-01 6.64094483e-01 7.60056169e-01\n",
            " 8.38881840e-01 8.98680624e-01 9.40539774e-01 9.67545676e-01\n",
            " 9.83580431e-01 9.92326661e-01 9.96699776e-01 9.98698914e-01\n",
            " 9.99531889e-01 9.99847068e-01 9.99954893e-01 9.99988069e-01\n",
            " 9.99997193e-01 9.99999418e-01 9.99999895e-01 9.99999984e-01\n",
            " 9.99999998e-01 1.00000000e+00 1.00000000e+00 1.00000000e+00\n",
            " 1.00000000e+00 1.00000000e+00 1.00000000e+00]\n"
          ]
        }
      ]
    },
    {
      "cell_type": "code",
      "source": [
        "plt.figure(figsize=(8,6))\n",
        "plt.plot(x,cdf,'b-',lw=2)\n",
        "plt.title('CDF coin flips')\n",
        "plt.xlabel('Success')\n",
        "plt.ylabel('Cumulative Probability')\n",
        "plt.show()"
      ],
      "metadata": {
        "colab": {
          "base_uri": "https://localhost:8080/",
          "height": 564
        },
        "id": "i93VpDCEXIpQ",
        "outputId": "ff1cfb8b-8df6-4575-c819-297f22fcdfc2"
      },
      "execution_count": null,
      "outputs": [
        {
          "output_type": "display_data",
          "data": {
            "text/plain": [
              "<Figure size 800x600 with 1 Axes>"
            ],
            "image/png": "[encoded data removed]"
          },
          "metadata": {}
        }
      ]
    },
    {
      "cell_type": "code",
      "source": [
        "from scipy import stats\n",
        "fair_pmf = stats.binom.pmf(n=100,k=50,p=0.5)\n",
        "fair_ppf = stats.binom.ppf(q=0.025,n=100,p=0.5)\n",
        "fair_cdf = stats.binom.cdf(n=100,p=0.5, k=45)\n",
        "print(fair_pmf, fair_ppf, fair_cdf)"
      ],
      "metadata": {
        "colab": {
          "base_uri": "https://localhost:8080/"
        },
        "id": "ZgSmP0JB-rVY",
        "outputId": "188d1d7b-0ed1-42cd-ddba-6ec418d06373"
      },
      "execution_count": null,
      "outputs": [
        {
          "output_type": "stream",
          "name": "stdout",
          "text": [
            "0.07958923738717875 40.0 0.18410080866334788\n"
          ]
        }
      ]
    },
    {
      "cell_type": "code",
      "source": [
        "import pandas as pd\n",
        "import matplotlib.pyplot as plt\n",
        "from sklearn.decomposition import PCA\n",
        "from sklearn.preprocessing import StandardScaler\n",
        "from sklearn.datasets import load_iris\n",
        "\n",
        "# 1. Load the Iris dataset\n",
        "iris = load_iris()\n",
        "df = pd.DataFrame(iris.data, columns=iris.feature_names)\n",
        "df['target'] = iris.target\n",
        "df['species'] = df['target'].map({0: 'setosa', 1: 'versicolor', 2: 'virginica'})\n",
        "df.head()\n"
      ],
      "metadata": {
        "colab": {
          "base_uri": "https://localhost:8080/",
          "height": 206
        },
        "id": "nRGwPeBl_PJt",
        "outputId": "950afd23-8433-425b-e082-5f149567751f"
      },
      "execution_count": null,
      "outputs": [
        {
          "output_type": "execute_result",
          "data": {
            "text/plain": [
              "   sepal length (cm)  sepal width (cm)  petal length (cm)  petal width (cm)  \\\n",
              "0                5.1               3.5                1.4               0.2   \n",
              "1                4.9               3.0                1.4               0.2   \n",
              "2                4.7               3.2                1.3               0.2   \n",
              "3                4.6               3.1                1.5               0.2   \n",
              "4                5.0               3.6                1.4               0.2   \n",
              "\n",
              "   target species  \n",
              "0       0  setosa  \n",
              "1       0  setosa  \n",
              "2       0  setosa  \n",
              "3       0  setosa  \n",
              "4       0  setosa  "
            ],
            "text/html": [
              "\n",
              "  <div id=\"df-0a74238f-1919-4731-bdcf-df50006da621\" class=\"colab-df-container\">\n",
              "    <div>\n",
              "<style scoped>\n",
              "    .dataframe tbody tr th:only-of-type {\n",
              "        vertical-align: middle;\n",
              "    }\n",
              "\n",
              "    .dataframe tbody tr th {\n",
              "        vertical-align: top;\n",
              "    }\n",
              "\n",
              "    .dataframe thead th {\n",
              "        text-align: right;\n",
              "    }\n",
              "</style>\n",
              "<table border=\"1\" class=\"dataframe\">\n",
              "  <thead>\n",
              "    <tr style=\"text-align: right;\">\n",
              "      <th></th>\n",
              "      <th>sepal length (cm)</th>\n",
              "      <th>sepal width (cm)</th>\n",
              "      <th>petal length (cm)</th>\n",
              "      <th>petal width (cm)</th>\n",
              "      <th>target</th>\n",
              "      <th>species</th>\n",
              "    </tr>\n",
              "  </thead>\n",
              "  <tbody>\n",
              "    <tr>\n",
              "      <th>0</th>\n",
              "      <td>5.1</td>\n",
              "      <td>3.5</td>\n",
              "      <td>1.4</td>\n",
              "      <td>0.2</td>\n",
              "      <td>0</td>\n",
              "      <td>setosa</td>\n",
              "    </tr>\n",
              "    <tr>\n",
              "      <th>1</th>\n",
              "      <td>4.9</td>\n",
              "      <td>3.0</td>\n",
              "      <td>1.4</td>\n",
              "      <td>0.2</td>\n",
              "      <td>0</td>\n",
              "      <td>setosa</td>\n",
              "    </tr>\n",
              "    <tr>\n",
              "      <th>2</th>\n",
              "      <td>4.7</td>\n",
              "      <td>3.2</td>\n",
              "      <td>1.3</td>\n",
              "      <td>0.2</td>\n",
              "      <td>0</td>\n",
              "      <td>setosa</td>\n",
              "    </tr>\n",
              "    <tr>\n",
              "      <th>3</th>\n",
              "      <td>4.6</td>\n",
              "      <td>3.1</td>\n",
              "      <td>1.5</td>\n",
              "      <td>0.2</td>\n",
              "      <td>0</td>\n",
              "      <td>setosa</td>\n",
              "    </tr>\n",
              "    <tr>\n",
              "      <th>4</th>\n",
              "      <td>5.0</td>\n",
              "      <td>3.6</td>\n",
              "      <td>1.4</td>\n",
              "      <td>0.2</td>\n",
              "      <td>0</td>\n",
              "      <td>setosa</td>\n",
              "    </tr>\n",
              "  </tbody>\n",
              "</table>\n",
              "</div>\n",
              "    <div class=\"colab-df-buttons\">\n",
              "\n",
              "  <div class=\"colab-df-container\">\n",
              "    <button class=\"colab-df-convert\" onclick=\"convertToInteractive('df-0a74238f-1919-4731-bdcf-df50006da621')\"\n",
              "            title=\"Convert this dataframe to an interactive table.\"\n",
              "            style=\"display:none;\">\n",
              "\n",
              "  <svg xmlns=\"http://www.w3.org/2000/svg\" height=\"24px\" viewBox=\"0 -960 960 960\">\n",
              "    <path d=\"M120-120v-720h720v720H120Zm60-500h600v-160H180v160Zm220 220h160v-160H400v160Zm0 220h160v-160H400v160ZM180-400h160v-160H180v160Zm440 0h160v-160H620v160ZM180-180h160v-160H180v160Zm440 0h160v-160H620v160Z\"/>\n",
              "  </svg>\n",
              "    </button>\n",
              "\n",
              "  <style>\n",
              "    .colab-df-container {\n",
              "      display:flex;\n",
              "      gap: 12px;\n",
              "    }\n",
              "\n",
              "    .colab-df-convert {\n",
              "      background-color: #E8F0FE;\n",
              "      border: none;\n",
              "      border-radius: 50%;\n",
              "      cursor: pointer;\n",
              "      display: none;\n",
              "      fill: #1967D2;\n",
              "      height: 32px;\n",
              "      padding: 0 0 0 0;\n",
              "      width: 32px;\n",
              "    }\n",
              "\n",
              "    .colab-df-convert:hover {\n",
              "      background-color: #E2EBFA;\n",
              "      box-shadow: 0px 1px 2px rgba(60, 64, 67, 0.3), 0px 1px 3px 1px rgba(60, 64, 67, 0.15);\n",
              "      fill: #174EA6;\n",
              "    }\n",
              "\n",
              "    .colab-df-buttons div {\n",
              "      margin-bottom: 4px;\n",
              "    }\n",
              "\n",
              "    [theme=dark] .colab-df-convert {\n",
              "      background-color: #3B4455;\n",
              "      fill: #D2E3FC;\n",
              "    }\n",
              "\n",
              "    [theme=dark] .colab-df-convert:hover {\n",
              "      background-color: #434B5C;\n",
              "      box-shadow: 0px 1px 3px 1px rgba(0, 0, 0, 0.15);\n",
              "      filter: drop-shadow(0px 1px 2px rgba(0, 0, 0, 0.3));\n",
              "      fill: #FFFFFF;\n",
              "    }\n",
              "  </style>\n",
              "\n",
              "    <script>\n",
              "      const buttonEl =\n",
              "        document.querySelector('#df-0a74238f-1919-4731-bdcf-df50006da621 button.colab-df-convert');\n",
              "      buttonEl.style.display =\n",
              "        google.colab.kernel.accessAllowed ? 'block' : 'none';\n",
              "\n",
              "      async function convertToInteractive(key) {\n",
              "        const element = document.querySelector('#df-0a74238f-1919-4731-bdcf-df50006da621');\n",
              "        const dataTable =\n",
              "          await google.colab.kernel.invokeFunction('convertToInteractive',\n",
              "                                                    [key], {});\n",
              "        if (!dataTable) return;\n",
              "\n",
              "        const docLinkHtml = 'Like what you see? Visit the ' +\n",
              "          '<a target=\"_blank\" href=https://colab.research.google.com/notebooks/data_table.ipynb>data table notebook</a>'\n",
              "          + ' to learn more about interactive tables.';\n",
              "        element.innerHTML = '';\n",
              "        dataTable['output_type'] = 'display_data';\n",
              "        await google.colab.output.renderOutput(dataTable, element);\n",
              "        const docLink = document.createElement('div');\n",
              "        docLink.innerHTML = docLinkHtml;\n",
              "        element.appendChild(docLink);\n",
              "      }\n",
              "    </script>\n",
              "  </div>\n",
              "\n",
              "\n",
              "    <div id=\"df-eb78c272-adda-4919-837c-57cff411ca6d\">\n",
              "      <button class=\"colab-df-quickchart\" onclick=\"quickchart('df-eb78c272-adda-4919-837c-57cff411ca6d')\"\n",
              "                title=\"Suggest charts\"\n",
              "                style=\"display:none;\">\n",
              "\n",
              "<svg xmlns=\"http://www.w3.org/2000/svg\" height=\"24px\"viewBox=\"0 0 24 24\"\n",
              "     width=\"24px\">\n",
              "    <g>\n",
              "        <path d=\"M19 3H5c-1.1 0-2 .9-2 2v14c0 1.1.9 2 2 2h14c1.1 0 2-.9 2-2V5c0-1.1-.9-2-2-2zM9 17H7v-7h2v7zm4 0h-2V7h2v10zm4 0h-2v-4h2v4z\"/>\n",
              "    </g>\n",
              "</svg>\n",
              "      </button>\n",
              "\n",
              "<style>\n",
              "  .colab-df-quickchart {\n",
              "      --bg-color: #E8F0FE;\n",
              "      --fill-color: #1967D2;\n",
              "      --hover-bg-color: #E2EBFA;\n",
              "      --hover-fill-color: #174EA6;\n",
              "      --disabled-fill-color: #AAA;\n",
              "      --disabled-bg-color: #DDD;\n",
              "  }\n",
              "\n",
              "  [theme=dark] .colab-df-quickchart {\n",
              "      --bg-color: #3B4455;\n",
              "      --fill-color: #D2E3FC;\n",
              "      --hover-bg-color: #434B5C;\n",
              "      --hover-fill-color: #FFFFFF;\n",
              "      --disabled-bg-color: #3B4455;\n",
              "      --disabled-fill-color: #666;\n",
              "  }\n",
              "\n",
              "  .colab-df-quickchart {\n",
              "    background-color: var(--bg-color);\n",
              "    border: none;\n",
              "    border-radius: 50%;\n",
              "    cursor: pointer;\n",
              "    display: none;\n",
              "    fill: var(--fill-color);\n",
              "    height: 32px;\n",
              "    padding: 0;\n",
              "    width: 32px;\n",
              "  }\n",
              "\n",
              "  .colab-df-quickchart:hover {\n",
              "    background-color: var(--hover-bg-color);\n",
              "    box-shadow: 0 1px 2px rgba(60, 64, 67, 0.3), 0 1px 3px 1px rgba(60, 64, 67, 0.15);\n",
              "    fill: var(--button-hover-fill-color);\n",
              "  }\n",
              "\n",
              "  .colab-df-quickchart-complete:disabled,\n",
              "  .colab-df-quickchart-complete:disabled:hover {\n",
              "    background-color: var(--disabled-bg-color);\n",
              "    fill: var(--disabled-fill-color);\n",
              "    box-shadow: none;\n",
              "  }\n",
              "\n",
              "  .colab-df-spinner {\n",
              "    border: 2px solid var(--fill-color);\n",
              "    border-color: transparent;\n",
              "    border-bottom-color: var(--fill-color);\n",
              "    animation:\n",
              "      spin 1s steps(1) infinite;\n",
              "  }\n",
              "\n",
              "  @keyframes spin {\n",
              "    0% {\n",
              "      border-color: transparent;\n",
              "      border-bottom-color: var(--fill-color);\n",
              "      border-left-color: var(--fill-color);\n",
              "    }\n",
              "    20% {\n",
              "      border-color: transparent;\n",
              "      border-left-color: var(--fill-color);\n",
              "      border-top-color: var(--fill-color);\n",
              "    }\n",
              "    30% {\n",
              "      border-color: transparent;\n",
              "      border-left-color: var(--fill-color);\n",
              "      border-top-color: var(--fill-color);\n",
              "      border-right-color: var(--fill-color);\n",
              "    }\n",
              "    40% {\n",
              "      border-color: transparent;\n",
              "      border-right-color: var(--fill-color);\n",
              "      border-top-color: var(--fill-color);\n",
              "    }\n",
              "    60% {\n",
              "      border-color: transparent;\n",
              "      border-right-color: var(--fill-color);\n",
              "    }\n",
              "    80% {\n",
              "      border-color: transparent;\n",
              "      border-right-color: var(--fill-color);\n",
              "      border-bottom-color: var(--fill-color);\n",
              "    }\n",
              "    90% {\n",
              "      border-color: transparent;\n",
              "      border-bottom-color: var(--fill-color);\n",
              "    }\n",
              "  }\n",
              "</style>\n",
              "\n",
              "      <script>\n",
              "        async function quickchart(key) {\n",
              "          const quickchartButtonEl =\n",
              "            document.querySelector('#' + key + ' button');\n",
              "          quickchartButtonEl.disabled = true;  // To prevent multiple clicks.\n",
              "          quickchartButtonEl.classList.add('colab-df-spinner');\n",
              "          try {\n",
              "            const charts = await google.colab.kernel.invokeFunction(\n",
              "                'suggestCharts', [key], {});\n",
              "          } catch (error) {\n",
              "            console.error('Error during call to suggestCharts:', error);\n",
              "          }\n",
              "          quickchartButtonEl.classList.remove('colab-df-spinner');\n",
              "          quickchartButtonEl.classList.add('colab-df-quickchart-complete');\n",
              "        }\n",
              "        (() => {\n",
              "          let quickchartButtonEl =\n",
              "            document.querySelector('#df-eb78c272-adda-4919-837c-57cff411ca6d button');\n",
              "          quickchartButtonEl.style.display =\n",
              "            google.colab.kernel.accessAllowed ? 'block' : 'none';\n",
              "        })();\n",
              "      </script>\n",
              "    </div>\n",
              "\n",
              "    </div>\n",
              "  </div>\n"
            ],
            "application/vnd.google.colaboratory.intrinsic+json": {
              "type": "dataframe",
              "variable_name": "df",
              "summary": "{\n  \"name\": \"df\",\n  \"rows\": 150,\n  \"fields\": [\n    {\n      \"column\": \"sepal length (cm)\",\n      \"properties\": {\n        \"dtype\": \"number\",\n        \"std\": 0.8280661279778629,\n        \"min\": 4.3,\n        \"max\": 7.9,\n        \"num_unique_values\": 35,\n        \"samples\": [\n          6.2,\n          4.5,\n          5.6\n        ],\n        \"semantic_type\": \"\",\n        \"description\": \"\"\n      }\n    },\n    {\n      \"column\": \"sepal width (cm)\",\n      \"properties\": {\n        \"dtype\": \"number\",\n        \"std\": 0.435866284936698,\n        \"min\": 2.0,\n        \"max\": 4.4,\n        \"num_unique_values\": 23,\n        \"samples\": [\n          2.3,\n          4.0,\n          3.5\n        ],\n        \"semantic_type\": \"\",\n        \"description\": \"\"\n      }\n    },\n    {\n      \"column\": \"petal length (cm)\",\n      \"properties\": {\n        \"dtype\": \"number\",\n        \"std\": 1.7652982332594667,\n        \"min\": 1.0,\n        \"max\": 6.9,\n        \"num_unique_values\": 43,\n        \"samples\": [\n          6.7,\n          3.8,\n          3.7\n        ],\n        \"semantic_type\": \"\",\n        \"description\": \"\"\n      }\n    },\n    {\n      \"column\": \"petal width (cm)\",\n      \"properties\": {\n        \"dtype\": \"number\",\n        \"std\": 0.7622376689603465,\n        \"min\": 0.1,\n        \"max\": 2.5,\n        \"num_unique_values\": 22,\n        \"samples\": [\n          0.2,\n          1.2,\n          1.3\n        ],\n        \"semantic_type\": \"\",\n        \"description\": \"\"\n      }\n    },\n    {\n      \"column\": \"target\",\n      \"properties\": {\n        \"dtype\": \"number\",\n        \"std\": 0,\n        \"min\": 0,\n        \"max\": 2,\n        \"num_unique_values\": 3,\n        \"samples\": [\n          0,\n          1,\n          2\n        ],\n        \"semantic_type\": \"\",\n        \"description\": \"\"\n      }\n    },\n    {\n      \"column\": \"species\",\n      \"properties\": {\n        \"dtype\": \"category\",\n        \"num_unique_values\": 3,\n        \"samples\": [\n          \"setosa\",\n          \"versicolor\",\n          \"virginica\"\n        ],\n        \"semantic_type\": \"\",\n        \"description\": \"\"\n      }\n    }\n  ]\n}"
            }
          },
          "metadata": {},
          "execution_count": 10
        }
      ]
    },
    {
      "cell_type": "code",
      "source": [
        "\n",
        "# 2. Standardize the data\n",
        "# It is crucial to standardize the features before applying PCA\n",
        "features = ['sepal length (cm)', 'sepal width (cm)', 'petal length (cm)', 'petal width (cm)']\n",
        "x = df.loc[:, features].values\n",
        "x = StandardScaler().fit_transform(x)\n",
        "print(x)\n"
      ],
      "metadata": {
        "colab": {
          "base_uri": "https://localhost:8080/"
        },
        "id": "ZwTTkMLxAvS-",
        "outputId": "cddec9e3-3737-47cb-9bde-42cf23d5be8d"
      },
      "execution_count": null,
      "outputs": [
        {
          "output_type": "stream",
          "name": "stdout",
          "text": [
            "[[-9.00681170e-01  1.01900435e+00 -1.34022653e+00 -1.31544430e+00]\n",
            " [-1.14301691e+00 -1.31979479e-01 -1.34022653e+00 -1.31544430e+00]\n",
            " [-1.38535265e+00  3.28414053e-01 -1.39706395e+00 -1.31544430e+00]\n",
            " [-1.50652052e+00  9.82172869e-02 -1.28338910e+00 -1.31544430e+00]\n",
            " [-1.02184904e+00  1.24920112e+00 -1.34022653e+00 -1.31544430e+00]\n",
            " [-5.37177559e-01  1.93979142e+00 -1.16971425e+00 -1.05217993e+00]\n",
            " [-1.50652052e+00  7.88807586e-01 -1.34022653e+00 -1.18381211e+00]\n",
            " [-1.02184904e+00  7.88807586e-01 -1.28338910e+00 -1.31544430e+00]\n",
            " [-1.74885626e+00 -3.62176246e-01 -1.34022653e+00 -1.31544430e+00]\n",
            " [-1.14301691e+00  9.82172869e-02 -1.28338910e+00 -1.44707648e+00]\n",
            " [-5.37177559e-01  1.47939788e+00 -1.28338910e+00 -1.31544430e+00]\n",
            " [-1.26418478e+00  7.88807586e-01 -1.22655167e+00 -1.31544430e+00]\n",
            " [-1.26418478e+00 -1.31979479e-01 -1.34022653e+00 -1.44707648e+00]\n",
            " [-1.87002413e+00 -1.31979479e-01 -1.51073881e+00 -1.44707648e+00]\n",
            " [-5.25060772e-02  2.16998818e+00 -1.45390138e+00 -1.31544430e+00]\n",
            " [-1.73673948e-01  3.09077525e+00 -1.28338910e+00 -1.05217993e+00]\n",
            " [-5.37177559e-01  1.93979142e+00 -1.39706395e+00 -1.05217993e+00]\n",
            " [-9.00681170e-01  1.01900435e+00 -1.34022653e+00 -1.18381211e+00]\n",
            " [-1.73673948e-01  1.70959465e+00 -1.16971425e+00 -1.18381211e+00]\n",
            " [-9.00681170e-01  1.70959465e+00 -1.28338910e+00 -1.18381211e+00]\n",
            " [-5.37177559e-01  7.88807586e-01 -1.16971425e+00 -1.31544430e+00]\n",
            " [-9.00681170e-01  1.47939788e+00 -1.28338910e+00 -1.05217993e+00]\n",
            " [-1.50652052e+00  1.24920112e+00 -1.56757623e+00 -1.31544430e+00]\n",
            " [-9.00681170e-01  5.58610819e-01 -1.16971425e+00 -9.20547742e-01]\n",
            " [-1.26418478e+00  7.88807586e-01 -1.05603939e+00 -1.31544430e+00]\n",
            " [-1.02184904e+00 -1.31979479e-01 -1.22655167e+00 -1.31544430e+00]\n",
            " [-1.02184904e+00  7.88807586e-01 -1.22655167e+00 -1.05217993e+00]\n",
            " [-7.79513300e-01  1.01900435e+00 -1.28338910e+00 -1.31544430e+00]\n",
            " [-7.79513300e-01  7.88807586e-01 -1.34022653e+00 -1.31544430e+00]\n",
            " [-1.38535265e+00  3.28414053e-01 -1.22655167e+00 -1.31544430e+00]\n",
            " [-1.26418478e+00  9.82172869e-02 -1.22655167e+00 -1.31544430e+00]\n",
            " [-5.37177559e-01  7.88807586e-01 -1.28338910e+00 -1.05217993e+00]\n",
            " [-7.79513300e-01  2.40018495e+00 -1.28338910e+00 -1.44707648e+00]\n",
            " [-4.16009689e-01  2.63038172e+00 -1.34022653e+00 -1.31544430e+00]\n",
            " [-1.14301691e+00  9.82172869e-02 -1.28338910e+00 -1.31544430e+00]\n",
            " [-1.02184904e+00  3.28414053e-01 -1.45390138e+00 -1.31544430e+00]\n",
            " [-4.16009689e-01  1.01900435e+00 -1.39706395e+00 -1.31544430e+00]\n",
            " [-1.14301691e+00  1.24920112e+00 -1.34022653e+00 -1.44707648e+00]\n",
            " [-1.74885626e+00 -1.31979479e-01 -1.39706395e+00 -1.31544430e+00]\n",
            " [-9.00681170e-01  7.88807586e-01 -1.28338910e+00 -1.31544430e+00]\n",
            " [-1.02184904e+00  1.01900435e+00 -1.39706395e+00 -1.18381211e+00]\n",
            " [-1.62768839e+00 -1.74335684e+00 -1.39706395e+00 -1.18381211e+00]\n",
            " [-1.74885626e+00  3.28414053e-01 -1.39706395e+00 -1.31544430e+00]\n",
            " [-1.02184904e+00  1.01900435e+00 -1.22655167e+00 -7.88915558e-01]\n",
            " [-9.00681170e-01  1.70959465e+00 -1.05603939e+00 -1.05217993e+00]\n",
            " [-1.26418478e+00 -1.31979479e-01 -1.34022653e+00 -1.18381211e+00]\n",
            " [-9.00681170e-01  1.70959465e+00 -1.22655167e+00 -1.31544430e+00]\n",
            " [-1.50652052e+00  3.28414053e-01 -1.34022653e+00 -1.31544430e+00]\n",
            " [-6.58345429e-01  1.47939788e+00 -1.28338910e+00 -1.31544430e+00]\n",
            " [-1.02184904e+00  5.58610819e-01 -1.34022653e+00 -1.31544430e+00]\n",
            " [ 1.40150837e+00  3.28414053e-01  5.35408562e-01  2.64141916e-01]\n",
            " [ 6.74501145e-01  3.28414053e-01  4.21733708e-01  3.95774101e-01]\n",
            " [ 1.28034050e+00  9.82172869e-02  6.49083415e-01  3.95774101e-01]\n",
            " [-4.16009689e-01 -1.74335684e+00  1.37546573e-01  1.32509732e-01]\n",
            " [ 7.95669016e-01 -5.92373012e-01  4.78571135e-01  3.95774101e-01]\n",
            " [-1.73673948e-01 -5.92373012e-01  4.21733708e-01  1.32509732e-01]\n",
            " [ 5.53333275e-01  5.58610819e-01  5.35408562e-01  5.27406285e-01]\n",
            " [-1.14301691e+00 -1.51316008e+00 -2.60315415e-01 -2.62386821e-01]\n",
            " [ 9.16836886e-01 -3.62176246e-01  4.78571135e-01  1.32509732e-01]\n",
            " [-7.79513300e-01 -8.22569778e-01  8.07091462e-02  2.64141916e-01]\n",
            " [-1.02184904e+00 -2.43394714e+00 -1.46640561e-01 -2.62386821e-01]\n",
            " [ 6.86617933e-02 -1.31979479e-01  2.51221427e-01  3.95774101e-01]\n",
            " [ 1.89829664e-01 -1.97355361e+00  1.37546573e-01 -2.62386821e-01]\n",
            " [ 3.10997534e-01 -3.62176246e-01  5.35408562e-01  2.64141916e-01]\n",
            " [-2.94841818e-01 -3.62176246e-01 -8.98031345e-02  1.32509732e-01]\n",
            " [ 1.03800476e+00  9.82172869e-02  3.64896281e-01  2.64141916e-01]\n",
            " [-2.94841818e-01 -1.31979479e-01  4.21733708e-01  3.95774101e-01]\n",
            " [-5.25060772e-02 -8.22569778e-01  1.94384000e-01 -2.62386821e-01]\n",
            " [ 4.32165405e-01 -1.97355361e+00  4.21733708e-01  3.95774101e-01]\n",
            " [-2.94841818e-01 -1.28296331e+00  8.07091462e-02 -1.30754636e-01]\n",
            " [ 6.86617933e-02  3.28414053e-01  5.92245988e-01  7.90670654e-01]\n",
            " [ 3.10997534e-01 -5.92373012e-01  1.37546573e-01  1.32509732e-01]\n",
            " [ 5.53333275e-01 -1.28296331e+00  6.49083415e-01  3.95774101e-01]\n",
            " [ 3.10997534e-01 -5.92373012e-01  5.35408562e-01  8.77547895e-04]\n",
            " [ 6.74501145e-01 -3.62176246e-01  3.08058854e-01  1.32509732e-01]\n",
            " [ 9.16836886e-01 -1.31979479e-01  3.64896281e-01  2.64141916e-01]\n",
            " [ 1.15917263e+00 -5.92373012e-01  5.92245988e-01  2.64141916e-01]\n",
            " [ 1.03800476e+00 -1.31979479e-01  7.05920842e-01  6.59038469e-01]\n",
            " [ 1.89829664e-01 -3.62176246e-01  4.21733708e-01  3.95774101e-01]\n",
            " [-1.73673948e-01 -1.05276654e+00 -1.46640561e-01 -2.62386821e-01]\n",
            " [-4.16009689e-01 -1.51316008e+00  2.38717193e-02 -1.30754636e-01]\n",
            " [-4.16009689e-01 -1.51316008e+00 -3.29657076e-02 -2.62386821e-01]\n",
            " [-5.25060772e-02 -8.22569778e-01  8.07091462e-02  8.77547895e-04]\n",
            " [ 1.89829664e-01 -8.22569778e-01  7.62758269e-01  5.27406285e-01]\n",
            " [-5.37177559e-01 -1.31979479e-01  4.21733708e-01  3.95774101e-01]\n",
            " [ 1.89829664e-01  7.88807586e-01  4.21733708e-01  5.27406285e-01]\n",
            " [ 1.03800476e+00  9.82172869e-02  5.35408562e-01  3.95774101e-01]\n",
            " [ 5.53333275e-01 -1.74335684e+00  3.64896281e-01  1.32509732e-01]\n",
            " [-2.94841818e-01 -1.31979479e-01  1.94384000e-01  1.32509732e-01]\n",
            " [-4.16009689e-01 -1.28296331e+00  1.37546573e-01  1.32509732e-01]\n",
            " [-4.16009689e-01 -1.05276654e+00  3.64896281e-01  8.77547895e-04]\n",
            " [ 3.10997534e-01 -1.31979479e-01  4.78571135e-01  2.64141916e-01]\n",
            " [-5.25060772e-02 -1.05276654e+00  1.37546573e-01  8.77547895e-04]\n",
            " [-1.02184904e+00 -1.74335684e+00 -2.60315415e-01 -2.62386821e-01]\n",
            " [-2.94841818e-01 -8.22569778e-01  2.51221427e-01  1.32509732e-01]\n",
            " [-1.73673948e-01 -1.31979479e-01  2.51221427e-01  8.77547895e-04]\n",
            " [-1.73673948e-01 -3.62176246e-01  2.51221427e-01  1.32509732e-01]\n",
            " [ 4.32165405e-01 -3.62176246e-01  3.08058854e-01  1.32509732e-01]\n",
            " [-9.00681170e-01 -1.28296331e+00 -4.30827696e-01 -1.30754636e-01]\n",
            " [-1.73673948e-01 -5.92373012e-01  1.94384000e-01  1.32509732e-01]\n",
            " [ 5.53333275e-01  5.58610819e-01  1.27429511e+00  1.71209594e+00]\n",
            " [-5.25060772e-02 -8.22569778e-01  7.62758269e-01  9.22302838e-01]\n",
            " [ 1.52267624e+00 -1.31979479e-01  1.21745768e+00  1.18556721e+00]\n",
            " [ 5.53333275e-01 -3.62176246e-01  1.04694540e+00  7.90670654e-01]\n",
            " [ 7.95669016e-01 -1.31979479e-01  1.16062026e+00  1.31719939e+00]\n",
            " [ 2.12851559e+00 -1.31979479e-01  1.61531967e+00  1.18556721e+00]\n",
            " [-1.14301691e+00 -1.28296331e+00  4.21733708e-01  6.59038469e-01]\n",
            " [ 1.76501198e+00 -3.62176246e-01  1.44480739e+00  7.90670654e-01]\n",
            " [ 1.03800476e+00 -1.28296331e+00  1.16062026e+00  7.90670654e-01]\n",
            " [ 1.64384411e+00  1.24920112e+00  1.33113254e+00  1.71209594e+00]\n",
            " [ 7.95669016e-01  3.28414053e-01  7.62758269e-01  1.05393502e+00]\n",
            " [ 6.74501145e-01 -8.22569778e-01  8.76433123e-01  9.22302838e-01]\n",
            " [ 1.15917263e+00 -1.31979479e-01  9.90107977e-01  1.18556721e+00]\n",
            " [-1.73673948e-01 -1.28296331e+00  7.05920842e-01  1.05393502e+00]\n",
            " [-5.25060772e-02 -5.92373012e-01  7.62758269e-01  1.58046376e+00]\n",
            " [ 6.74501145e-01  3.28414053e-01  8.76433123e-01  1.44883158e+00]\n",
            " [ 7.95669016e-01 -1.31979479e-01  9.90107977e-01  7.90670654e-01]\n",
            " [ 2.24968346e+00  1.70959465e+00  1.67215710e+00  1.31719939e+00]\n",
            " [ 2.24968346e+00 -1.05276654e+00  1.78583195e+00  1.44883158e+00]\n",
            " [ 1.89829664e-01 -1.97355361e+00  7.05920842e-01  3.95774101e-01]\n",
            " [ 1.28034050e+00  3.28414053e-01  1.10378283e+00  1.44883158e+00]\n",
            " [-2.94841818e-01 -5.92373012e-01  6.49083415e-01  1.05393502e+00]\n",
            " [ 2.24968346e+00 -5.92373012e-01  1.67215710e+00  1.05393502e+00]\n",
            " [ 5.53333275e-01 -8.22569778e-01  6.49083415e-01  7.90670654e-01]\n",
            " [ 1.03800476e+00  5.58610819e-01  1.10378283e+00  1.18556721e+00]\n",
            " [ 1.64384411e+00  3.28414053e-01  1.27429511e+00  7.90670654e-01]\n",
            " [ 4.32165405e-01 -5.92373012e-01  5.92245988e-01  7.90670654e-01]\n",
            " [ 3.10997534e-01 -1.31979479e-01  6.49083415e-01  7.90670654e-01]\n",
            " [ 6.74501145e-01 -5.92373012e-01  1.04694540e+00  1.18556721e+00]\n",
            " [ 1.64384411e+00 -1.31979479e-01  1.16062026e+00  5.27406285e-01]\n",
            " [ 1.88617985e+00 -5.92373012e-01  1.33113254e+00  9.22302838e-01]\n",
            " [ 2.49201920e+00  1.70959465e+00  1.50164482e+00  1.05393502e+00]\n",
            " [ 6.74501145e-01 -5.92373012e-01  1.04694540e+00  1.31719939e+00]\n",
            " [ 5.53333275e-01 -5.92373012e-01  7.62758269e-01  3.95774101e-01]\n",
            " [ 3.10997534e-01 -1.05276654e+00  1.04694540e+00  2.64141916e-01]\n",
            " [ 2.24968346e+00 -1.31979479e-01  1.33113254e+00  1.44883158e+00]\n",
            " [ 5.53333275e-01  7.88807586e-01  1.04694540e+00  1.58046376e+00]\n",
            " [ 6.74501145e-01  9.82172869e-02  9.90107977e-01  7.90670654e-01]\n",
            " [ 1.89829664e-01 -1.31979479e-01  5.92245988e-01  7.90670654e-01]\n",
            " [ 1.28034050e+00  9.82172869e-02  9.33270550e-01  1.18556721e+00]\n",
            " [ 1.03800476e+00  9.82172869e-02  1.04694540e+00  1.58046376e+00]\n",
            " [ 1.28034050e+00  9.82172869e-02  7.62758269e-01  1.44883158e+00]\n",
            " [-5.25060772e-02 -8.22569778e-01  7.62758269e-01  9.22302838e-01]\n",
            " [ 1.15917263e+00  3.28414053e-01  1.21745768e+00  1.44883158e+00]\n",
            " [ 1.03800476e+00  5.58610819e-01  1.10378283e+00  1.71209594e+00]\n",
            " [ 1.03800476e+00 -1.31979479e-01  8.19595696e-01  1.44883158e+00]\n",
            " [ 5.53333275e-01 -1.28296331e+00  7.05920842e-01  9.22302838e-01]\n",
            " [ 7.95669016e-01 -1.31979479e-01  8.19595696e-01  1.05393502e+00]\n",
            " [ 4.32165405e-01  7.88807586e-01  9.33270550e-01  1.44883158e+00]\n",
            " [ 6.86617933e-02 -1.31979479e-01  7.62758269e-01  7.90670654e-01]]\n"
          ]
        }
      ]
    },
    {
      "cell_type": "code",
      "source": [
        "\n",
        "# 3. Apply PCA to reduce dimensions to 2\n",
        "pca = PCA(n_components=2)\n",
        "principal_components = pca.fit_transform(x)\n",
        "principal_df = pd.DataFrame(data=principal_components, columns=['principal component 1', 'principal component 2'])\n",
        "\n",
        "# Add back the target (species) for visualization\n",
        "final_df = pd.concat([principal_df, df[['species']]], axis=1)\n",
        "final_df.head()"
      ],
      "metadata": {
        "colab": {
          "base_uri": "https://localhost:8080/",
          "height": 206
        },
        "id": "yrbtH3e4A-i7",
        "outputId": "fc2607d8-26c2-4bcc-f56d-39320e20debb"
      },
      "execution_count": null,
      "outputs": [
        {
          "output_type": "execute_result",
          "data": {
            "text/plain": [
              "   principal component 1  principal component 2 species\n",
              "0              -2.264703               0.480027  setosa\n",
              "1              -2.080961              -0.674134  setosa\n",
              "2              -2.364229              -0.341908  setosa\n",
              "3              -2.299384              -0.597395  setosa\n",
              "4              -2.389842               0.646835  setosa"
            ],
            "text/html": [
              "\n",
              "  <div id=\"df-689855f9-8c6e-465e-8a10-fb991dd751fb\" class=\"colab-df-container\">\n",
              "    <div>\n",
              "<style scoped>\n",
              "    .dataframe tbody tr th:only-of-type {\n",
              "        vertical-align: middle;\n",
              "    }\n",
              "\n",
              "    .dataframe tbody tr th {\n",
              "        vertical-align: top;\n",
              "    }\n",
              "\n",
              "    .dataframe thead th {\n",
              "        text-align: right;\n",
              "    }\n",
              "</style>\n",
              "<table border=\"1\" class=\"dataframe\">\n",
              "  <thead>\n",
              "    <tr style=\"text-align: right;\">\n",
              "      <th></th>\n",
              "      <th>principal component 1</th>\n",
              "      <th>principal component 2</th>\n",
              "      <th>species</th>\n",
              "    </tr>\n",
              "  </thead>\n",
              "  <tbody>\n",
              "    <tr>\n",
              "      <th>0</th>\n",
              "      <td>-2.264703</td>\n",
              "      <td>0.480027</td>\n",
              "      <td>setosa</td>\n",
              "    </tr>\n",
              "    <tr>\n",
              "      <th>1</th>\n",
              "      <td>-2.080961</td>\n",
              "      <td>-0.674134</td>\n",
              "      <td>setosa</td>\n",
              "    </tr>\n",
              "    <tr>\n",
              "      <th>2</th>\n",
              "      <td>-2.364229</td>\n",
              "      <td>-0.341908</td>\n",
              "      <td>setosa</td>\n",
              "    </tr>\n",
              "    <tr>\n",
              "      <th>3</th>\n",
              "      <td>-2.299384</td>\n",
              "      <td>-0.597395</td>\n",
              "      <td>setosa</td>\n",
              "    </tr>\n",
              "    <tr>\n",
              "      <th>4</th>\n",
              "      <td>-2.389842</td>\n",
              "      <td>0.646835</td>\n",
              "      <td>setosa</td>\n",
              "    </tr>\n",
              "  </tbody>\n",
              "</table>\n",
              "</div>\n",
              "    <div class=\"colab-df-buttons\">\n",
              "\n",
              "  <div class=\"colab-df-container\">\n",
              "    <button class=\"colab-df-convert\" onclick=\"convertToInteractive('df-689855f9-8c6e-465e-8a10-fb991dd751fb')\"\n",
              "            title=\"Convert this dataframe to an interactive table.\"\n",
              "            style=\"display:none;\">\n",
              "\n",
              "  <svg xmlns=\"http://www.w3.org/2000/svg\" height=\"24px\" viewBox=\"0 -960 960 960\">\n",
              "    <path d=\"M120-120v-720h720v720H120Zm60-500h600v-160H180v160Zm220 220h160v-160H400v160Zm0 220h160v-160H400v160ZM180-400h160v-160H180v160Zm440 0h160v-160H620v160ZM180-180h160v-160H180v160Zm440 0h160v-160H620v160Z\"/>\n",
              "  </svg>\n",
              "    </button>\n",
              "\n",
              "  <style>\n",
              "    .colab-df-container {\n",
              "      display:flex;\n",
              "      gap: 12px;\n",
              "    }\n",
              "\n",
              "    .colab-df-convert {\n",
              "      background-color: #E8F0FE;\n",
              "      border: none;\n",
              "      border-radius: 50%;\n",
              "      cursor: pointer;\n",
              "      display: none;\n",
              "      fill: #1967D2;\n",
              "      height: 32px;\n",
              "      padding: 0 0 0 0;\n",
              "      width: 32px;\n",
              "    }\n",
              "\n",
              "    .colab-df-convert:hover {\n",
              "      background-color: #E2EBFA;\n",
              "      box-shadow: 0px 1px 2px rgba(60, 64, 67, 0.3), 0px 1px 3px 1px rgba(60, 64, 67, 0.15);\n",
              "      fill: #174EA6;\n",
              "    }\n",
              "\n",
              "    .colab-df-buttons div {\n",
              "      margin-bottom: 4px;\n",
              "    }\n",
              "\n",
              "    [theme=dark] .colab-df-convert {\n",
              "      background-color: #3B4455;\n",
              "      fill: #D2E3FC;\n",
              "    }\n",
              "\n",
              "    [theme=dark] .colab-df-convert:hover {\n",
              "      background-color: #434B5C;\n",
              "      box-shadow: 0px 1px 3px 1px rgba(0, 0, 0, 0.15);\n",
              "      filter: drop-shadow(0px 1px 2px rgba(0, 0, 0, 0.3));\n",
              "      fill: #FFFFFF;\n",
              "    }\n",
              "  </style>\n",
              "\n",
              "    <script>\n",
              "      const buttonEl =\n",
              "        document.querySelector('#df-689855f9-8c6e-465e-8a10-fb991dd751fb button.colab-df-convert');\n",
              "      buttonEl.style.display =\n",
              "        google.colab.kernel.accessAllowed ? 'block' : 'none';\n",
              "\n",
              "      async function convertToInteractive(key) {\n",
              "        const element = document.querySelector('#df-689855f9-8c6e-465e-8a10-fb991dd751fb');\n",
              "        const dataTable =\n",
              "          await google.colab.kernel.invokeFunction('convertToInteractive',\n",
              "                                                    [key], {});\n",
              "        if (!dataTable) return;\n",
              "\n",
              "        const docLinkHtml = 'Like what you see? Visit the ' +\n",
              "          '<a target=\"_blank\" href=https://colab.research.google.com/notebooks/data_table.ipynb>data table notebook</a>'\n",
              "          + ' to learn more about interactive tables.';\n",
              "        element.innerHTML = '';\n",
              "        dataTable['output_type'] = 'display_data';\n",
              "        await google.colab.output.renderOutput(dataTable, element);\n",
              "        const docLink = document.createElement('div');\n",
              "        docLink.innerHTML = docLinkHtml;\n",
              "        element.appendChild(docLink);\n",
              "      }\n",
              "    </script>\n",
              "  </div>\n",
              "\n",
              "\n",
              "    <div id=\"df-a70d1c72-4ae9-47f2-80f7-57d05df7b1b0\">\n",
              "      <button class=\"colab-df-quickchart\" onclick=\"quickchart('df-a70d1c72-4ae9-47f2-80f7-57d05df7b1b0')\"\n",
              "                title=\"Suggest charts\"\n",
              "                style=\"display:none;\">\n",
              "\n",
              "<svg xmlns=\"http://www.w3.org/2000/svg\" height=\"24px\"viewBox=\"0 0 24 24\"\n",
              "     width=\"24px\">\n",
              "    <g>\n",
              "        <path d=\"M19 3H5c-1.1 0-2 .9-2 2v14c0 1.1.9 2 2 2h14c1.1 0 2-.9 2-2V5c0-1.1-.9-2-2-2zM9 17H7v-7h2v7zm4 0h-2V7h2v10zm4 0h-2v-4h2v4z\"/>\n",
              "    </g>\n",
              "</svg>\n",
              "      </button>\n",
              "\n",
              "<style>\n",
              "  .colab-df-quickchart {\n",
              "      --bg-color: #E8F0FE;\n",
              "      --fill-color: #1967D2;\n",
              "      --hover-bg-color: #E2EBFA;\n",
              "      --hover-fill-color: #174EA6;\n",
              "      --disabled-fill-color: #AAA;\n",
              "      --disabled-bg-color: #DDD;\n",
              "  }\n",
              "\n",
              "  [theme=dark] .colab-df-quickchart {\n",
              "      --bg-color: #3B4455;\n",
              "      --fill-color: #D2E3FC;\n",
              "      --hover-bg-color: #434B5C;\n",
              "      --hover-fill-color: #FFFFFF;\n",
              "      --disabled-bg-color: #3B4455;\n",
              "      --disabled-fill-color: #666;\n",
              "  }\n",
              "\n",
              "  .colab-df-quickchart {\n",
              "    background-color: var(--bg-color);\n",
              "    border: none;\n",
              "    border-radius: 50%;\n",
              "    cursor: pointer;\n",
              "    display: none;\n",
              "    fill: var(--fill-color);\n",
              "    height: 32px;\n",
              "    padding: 0;\n",
              "    width: 32px;\n",
              "  }\n",
              "\n",
              "  .colab-df-quickchart:hover {\n",
              "    background-color: var(--hover-bg-color);\n",
              "    box-shadow: 0 1px 2px rgba(60, 64, 67, 0.3), 0 1px 3px 1px rgba(60, 64, 67, 0.15);\n",
              "    fill: var(--button-hover-fill-color);\n",
              "  }\n",
              "\n",
              "  .colab-df-quickchart-complete:disabled,\n",
              "  .colab-df-quickchart-complete:disabled:hover {\n",
              "    background-color: var(--disabled-bg-color);\n",
              "    fill: var(--disabled-fill-color);\n",
              "    box-shadow: none;\n",
              "  }\n",
              "\n",
              "  .colab-df-spinner {\n",
              "    border: 2px solid var(--fill-color);\n",
              "    border-color: transparent;\n",
              "    border-bottom-color: var(--fill-color);\n",
              "    animation:\n",
              "      spin 1s steps(1) infinite;\n",
              "  }\n",
              "\n",
              "  @keyframes spin {\n",
              "    0% {\n",
              "      border-color: transparent;\n",
              "      border-bottom-color: var(--fill-color);\n",
              "      border-left-color: var(--fill-color);\n",
              "    }\n",
              "    20% {\n",
              "      border-color: transparent;\n",
              "      border-left-color: var(--fill-color);\n",
              "      border-top-color: var(--fill-color);\n",
              "    }\n",
              "    30% {\n",
              "      border-color: transparent;\n",
              "      border-left-color: var(--fill-color);\n",
              "      border-top-color: var(--fill-color);\n",
              "      border-right-color: var(--fill-color);\n",
              "    }\n",
              "    40% {\n",
              "      border-color: transparent;\n",
              "      border-right-color: var(--fill-color);\n",
              "      border-top-color: var(--fill-color);\n",
              "    }\n",
              "    60% {\n",
              "      border-color: transparent;\n",
              "      border-right-color: var(--fill-color);\n",
              "    }\n",
              "    80% {\n",
              "      border-color: transparent;\n",
              "      border-right-color: var(--fill-color);\n",
              "      border-bottom-color: var(--fill-color);\n",
              "    }\n",
              "    90% {\n",
              "      border-color: transparent;\n",
              "      border-bottom-color: var(--fill-color);\n",
              "    }\n",
              "  }\n",
              "</style>\n",
              "\n",
              "      <script>\n",
              "        async function quickchart(key) {\n",
              "          const quickchartButtonEl =\n",
              "            document.querySelector('#' + key + ' button');\n",
              "          quickchartButtonEl.disabled = true;  // To prevent multiple clicks.\n",
              "          quickchartButtonEl.classList.add('colab-df-spinner');\n",
              "          try {\n",
              "            const charts = await google.colab.kernel.invokeFunction(\n",
              "                'suggestCharts', [key], {});\n",
              "          } catch (error) {\n",
              "            console.error('Error during call to suggestCharts:', error);\n",
              "          }\n",
              "          quickchartButtonEl.classList.remove('colab-df-spinner');\n",
              "          quickchartButtonEl.classList.add('colab-df-quickchart-complete');\n",
              "        }\n",
              "        (() => {\n",
              "          let quickchartButtonEl =\n",
              "            document.querySelector('#df-a70d1c72-4ae9-47f2-80f7-57d05df7b1b0 button');\n",
              "          quickchartButtonEl.style.display =\n",
              "            google.colab.kernel.accessAllowed ? 'block' : 'none';\n",
              "        })();\n",
              "      </script>\n",
              "    </div>\n",
              "\n",
              "    </div>\n",
              "  </div>\n"
            ],
            "application/vnd.google.colaboratory.intrinsic+json": {
              "type": "dataframe",
              "variable_name": "final_df",
              "summary": "{\n  \"name\": \"final_df\",\n  \"rows\": 150,\n  \"fields\": [\n    {\n      \"column\": \"principal component 1\",\n      \"properties\": {\n        \"dtype\": \"number\",\n        \"std\": 1.7140843182877539,\n        \"min\": -2.77434470292733,\n        \"max\": 3.3106955839338865,\n        \"num_unique_values\": 149,\n        \"samples\": [\n          0.6328581997098218,\n          -1.8985719958028404,\n          2.4263289873157006\n        ],\n        \"semantic_type\": \"\",\n        \"description\": \"\"\n      }\n    },\n    {\n      \"column\": \"principal component 2\",\n      \"properties\": {\n        \"dtype\": \"number\",\n        \"std\": 0.9592522630478837,\n        \"min\": -2.6540728185365627,\n        \"max\": 2.686284485110592,\n        \"num_unique_values\": 149,\n        \"samples\": [\n          -0.41638772088909926,\n          1.4050187944665493,\n          2.556661250795491\n        ],\n        \"semantic_type\": \"\",\n        \"description\": \"\"\n      }\n    },\n    {\n      \"column\": \"species\",\n      \"properties\": {\n        \"dtype\": \"category\",\n        \"num_unique_values\": 3,\n        \"samples\": [\n          \"setosa\",\n          \"versicolor\",\n          \"virginica\"\n        ],\n        \"semantic_type\": \"\",\n        \"description\": \"\"\n      }\n    }\n  ]\n}"
            }
          },
          "metadata": {},
          "execution_count": 15
        }
      ]
    },
    {
      "cell_type": "code",
      "source": [
        "\n",
        "# 4. Visualize the results\n",
        "plt.figure(figsize=(10, 8))\n",
        "targets = ['setosa', 'versicolor', 'virginica']\n",
        "colors = ['r', 'g', 'b']\n",
        "for target, color in zip(targets, colors):\n",
        "    indices_to_keep = final_df['species'] == target\n",
        "    plt.scatter(final_df.loc[indices_to_keep, 'principal component 1'],\n",
        "                final_df.loc[indices_to_keep, 'principal component 2'],\n",
        "                c=color,\n",
        "                s=50)\n",
        "plt.xlabel('Principal Component 1', fontsize=12)\n",
        "plt.ylabel('Principal Component 2', fontsize=12)\n",
        "plt.title('2 Component PCA of Iris Dataset', fontsize=15)\n",
        "plt.legend(targets)\n",
        "plt.grid()\n",
        "plt.show()\n",
        "\n",
        "# 5. Check the explained variance ratio\n",
        "print(f\"Explained variance ratio of PC1 and PC2: {pca.explained_variance_ratio_}\")\n",
        "print(f\"Total variance explained by the 2 components: {sum(pca.explained_variance_ratio_) * 100:.2f}%\")"
      ],
      "metadata": {
        "colab": {
          "base_uri": "https://localhost:8080/",
          "height": 761
        },
        "id": "M3s04yn2Bciu",
        "outputId": "ce9766ee-0bf2-4700-d4eb-d65a45bda1cb"
      },
      "execution_count": null,
      "outputs": [
        {
          "output_type": "display_data",
          "data": {
            "text/plain": [
              "<Figure size 1000x800 with 1 Axes>"
            ],
            "image/png": "[encoded data removed]"
          },
          "metadata": {}
        },
        {
          "output_type": "stream",
          "name": "stdout",
          "text": [
            "Explained variance ratio of PC1 and PC2: [0.72962445 0.22850762]\n",
            "Total variance explained by the 2 components: 95.81%\n"
          ]
        }
      ]
    },
    {
      "cell_type": "code",
      "source": [
        "pca.explained_variance_ratio_"
      ],
      "metadata": {
        "colab": {
          "base_uri": "https://localhost:8080/"
        },
        "id": "8g5fWgkzCO9-",
        "outputId": "50b8360d-82e2-4cd4-ff93-b88da1695f70"
      },
      "execution_count": null,
      "outputs": [
        {
          "output_type": "execute_result",
          "data": {
            "text/plain": [
              "array([0.72962445, 0.22850762])"
            ]
          },
          "metadata": {},
          "execution_count": 17
        }
      ]
    },
    {
      "cell_type": "code",
      "source": [
        "pca.components_"
      ],
      "metadata": {
        "colab": {
          "base_uri": "https://localhost:8080/"
        },
        "id": "aC6_vIcNCZzM",
        "outputId": "17179a3b-81c8-456c-987c-46613add3ee1"
      },
      "execution_count": null,
      "outputs": [
        {
          "output_type": "execute_result",
          "data": {
            "text/plain": [
              "array([[ 0.52106591, -0.26934744,  0.5804131 ,  0.56485654],\n",
              "       [ 0.37741762,  0.92329566,  0.02449161,  0.06694199]])"
            ]
          },
          "metadata": {},
          "execution_count": 18
        }
      ]
    },
    {
      "cell_type": "code",
      "source": [
        "def two_pairs(arr, target):\n",
        "    lookup = {}\n",
        "    for i in range(len(arr)):\n",
        "        lookup[arr[i]] = i\n",
        "    count = 0\n",
        "    res = []\n",
        "    for i in range(len(arr)):\n",
        "        diff = arr[i]-target\n",
        "        if diff in lookup and lookup[diff]!=i:\n",
        "            count+=1\n",
        "            res.append((lookup[diff], i))\n",
        "    return count, res"
      ],
      "metadata": {
        "id": "Uv7F6WH6My5f"
      },
      "execution_count": null,
      "outputs": []
    },
    {
      "cell_type": "code",
      "source": [
        "two_pairs([3,6,1,4,7,2,10,5], 6)"
      ],
      "metadata": {
        "colab": {
          "base_uri": "https://localhost:8080/"
        },
        "id": "NSIJTcNnNbOd",
        "outputId": "d47edfe8-0a39-4b6b-c98c-3b242dfc4a14"
      },
      "execution_count": null,
      "outputs": [
        {
          "output_type": "execute_result",
          "data": {
            "text/plain": [
              "(2, [(2, 4), (3, 6)])"
            ]
          },
          "metadata": {},
          "execution_count": 24
        }
      ]
    },
    {
      "cell_type": "code",
      "source": [
        "import random\n",
        "random.seed(42)\n",
        "def func0_1():\n",
        "    return random.randint(0,1)\n",
        "def func0_4():\n",
        "    bit1 = func0_1()\n",
        "    bit2 = func0_1()\n",
        "    return 2*bit1 + bit2\n",
        "print(func0_1())\n",
        "print(func0_1())\n",
        "print(func0_4())\n",
        "print(func0_4())\n",
        "print(func0_4())\n",
        "print(func0_4())"
      ],
      "metadata": {
        "colab": {
          "base_uri": "https://localhost:8080/"
        },
        "id": "bwxJdk0bRuVv",
        "outputId": "0234285e-0484-4bcc-8c7b-be8f8a0929db"
      },
      "execution_count": null,
      "outputs": [
        {
          "output_type": "stream",
          "name": "stdout",
          "text": [
            "0\n",
            "0\n",
            "2\n",
            "0\n",
            "0\n",
            "2\n"
          ]
        }
      ]
    },
    {
      "cell_type": "code",
      "source": [
        "def rand5():\n",
        "    return random.randint(1,5)\n",
        "\n",
        "def rand7():\n",
        "    mat = [[1,2,3,4,5],\n",
        "           [6,7,1,2,3],\n",
        "           [4,5,6,7,1],\n",
        "           [2,3,4,5,6],\n",
        "           [7,0,0,0,0]]\n",
        "    while True:\n",
        "        x = rand5()-1\n",
        "        y = rand5()-1\n",
        "        if mat[x][y] != 0:\n",
        "            return mat[x][y]\n",
        "print(rand5())\n",
        "print(rand5())\n",
        "print('----')\n",
        "print(rand7())\n",
        "print(rand7())\n",
        "print(rand7())\n",
        "print(rand7())"
      ],
      "metadata": {
        "colab": {
          "base_uri": "https://localhost:8080/"
        },
        "id": "b2E3M2NiW9Eg",
        "outputId": "ed035911-7a1f-4bb9-a4c1-b0db38654116"
      },
      "execution_count": null,
      "outputs": [
        {
          "output_type": "stream",
          "name": "stdout",
          "text": [
            "2\n",
            "3\n",
            "----\n",
            "3\n",
            "7\n",
            "7\n",
            "2\n"
          ]
        }
      ]
    },
    {
      "cell_type": "code",
      "source": [],
      "metadata": {
        "id": "Qqs26xLWW9Fh"
      },
      "execution_count": null,
      "outputs": []
    },
    {
      "cell_type": "code",
      "source": [
        "stats.binom.cdf(k=1, n= 10, p=0.5)"
      ],
      "metadata": {
        "colab": {
          "base_uri": "https://localhost:8080/"
        },
        "id": "mUVI0rP7eprl",
        "outputId": "2097c1f9-3acf-4e5c-c2e3-1ba8e9f28f0e"
      },
      "execution_count": null,
      "outputs": [
        {
          "output_type": "execute_result",
          "data": {
            "text/plain": [
              "np.float64(0.0107421875)"
            ]
          },
          "metadata": {},
          "execution_count": 60
        }
      ]
    },
    {
      "cell_type": "code",
      "source": [
        "stats.binomtest(k=1,n=10, p=0.5)"
      ],
      "metadata": {
        "colab": {
          "base_uri": "https://localhost:8080/"
        },
        "id": "d-KH_2kYtKQ8",
        "outputId": "53f96f61-2292-4364-81af-5a8f92a3b4ac"
      },
      "execution_count": null,
      "outputs": [
        {
          "output_type": "execute_result",
          "data": {
            "text/plain": [
              "BinomTestResult(k=1, n=10, alternative='two-sided', statistic=0.1, pvalue=0.021484375)"
            ]
          },
          "metadata": {},
          "execution_count": 61
        }
      ]
    },
    {
      "cell_type": "code",
      "source": [
        "import numpy as np\n",
        "\n",
        "p1 = np.array([[1, 2, 3],[4,5,6]])\n",
        "p2 = np.array([[4, 6, 8], [5,1,5]])\n",
        "\n",
        "distance = np.linalg.norm(p1 - p2)\n",
        "\n",
        "print(distance)\n",
        "\n",
        "\n",
        "print(np.sqrt(np.sum(np.square(p1-p2))))"
      ],
      "metadata": {
        "colab": {
          "base_uri": "https://localhost:8080/"
        },
        "id": "uhbVPFe31RUk",
        "outputId": "2f0fa00c-8743-4f0a-e9be-9091d607085d"
      },
      "execution_count": null,
      "outputs": [
        {
          "output_type": "stream",
          "name": "stdout",
          "text": [
            "8.246211251235321\n",
            "8.246211251235321\n"
          ]
        }
      ]
    },
    {
      "cell_type": "code",
      "source": [
        "import numpy as np\n",
        "import random\n",
        "import heapq\n",
        "random.seed(42)\n",
        "\n",
        "class KMeans:\n",
        "    def __init__(self, k, x):\n",
        "        print(f'\\nKMEANS: trying {k} points')\n",
        "        self.k=k\n",
        "        self.x = x\n",
        "        self.clusters = {}\n",
        "        self.rng = np.random.default_rng(42)\n",
        "\n",
        "    def distance(self, x1, x2):\n",
        "        return np.sqrt(np.sum(np.square(p1-p2)))\n",
        "\n",
        "    def initialize(self):\n",
        "        centroids = self.rng.choice(self.x, self.k,replace=False)\n",
        "        for centroid in centroids:\n",
        "            self.clusters[tuple(centroid)] = []\n",
        "        print(f'INITIALIZE: initialize random centroids {self.clusters.keys()}')\n",
        "\n",
        "    def assign(self):\n",
        "        # clear clusters to make new assignment\n",
        "        for centroid in self.clusters:\n",
        "            self.clusters[tuple(centroid)] = []\n",
        "        # assign each point to closest centroid\n",
        "        for point in self.x:\n",
        "            dists = []\n",
        "            for centroid in self.clusters:\n",
        "                dist = self.distance(centroid, point)\n",
        "                #print('got dist ',dist, 'for', point)\n",
        "                dists.append((dist, centroid))\n",
        "            closest_dist, closest_centroid = min(dists)\n",
        "            self.clusters[tuple(closest_centroid)].append(point)\n",
        "        print(f'ASSIGN: assigned ppoint to centroid {self.clusters.keys()}')\n",
        "\n",
        "    def update(self):\n",
        "        new_clusters = {}\n",
        "        for centroid, cluster in self.clusters.items():\n",
        "            #breakpoint()\n",
        "            if len(cluster)==0:\n",
        "                continue\n",
        "            print(f'getting mean for {cluster} in {centroid}')\n",
        "            new_centroid = np.mean(cluster, axis=0)\n",
        "            print(new_centroid)\n",
        "            new_clusters[tuple(new_centroid)] = cluster\n",
        "        self.clusters = new_clusters\n",
        "        print(f'UPDATE: updated centroids {self.clusters.keys()}')\n",
        "\n",
        "    def is_met_condition(self, curr_cluster, prev_cluster):\n",
        "        changes = []\n",
        "        for c, p in zip(curr_cluster, prev_cluster):\n",
        "            changes = abs(np.array(c)-np.array(p))/np.array(p)\n",
        "        if max(changes)<0.01:\n",
        "            print(f'RUN: reached stopping condition for change: {changes}')\n",
        "            return True\n",
        "        return False\n",
        "\n",
        "    def run(self):\n",
        "        self.initialize()\n",
        "        while True:\n",
        "            prev = self.clusters.keys()\n",
        "            self.assign()\n",
        "            self.update()\n",
        "            if self.is_met_condition(self.clusters.keys(), prev):\n",
        "                break\n",
        "\n",
        "data = np.random.uniform(size=(10,5))\n",
        "print(data)\n",
        "k=int(np.sqrt(len(data)))\n",
        "km = KMeans(k, data)\n",
        "km.run()\n",
        "for k,v in km.clusters.items():\n",
        "    print(k,v)\n"
      ],
      "metadata": {
        "colab": {
          "base_uri": "https://localhost:8080/"
        },
        "id": "mnQOmZ5Qzi_f",
        "outputId": "896ff038-c2eb-4e2b-9afb-8d8bb536bed6"
      },
      "execution_count": null,
      "outputs": [
        {
          "output_type": "stream",
          "name": "stdout",
          "text": [
            "[[0.84818763 0.12877074 0.50733553 0.45023516 0.06564406]\n",
            " [0.35233447 0.84095633 0.76156281 0.73555216 0.67074456]\n",
            " [0.7952626  0.51798329 0.77392941 0.94782545 0.42886629]\n",
            " [0.45191989 0.23843531 0.53360623 0.6930491  0.359486  ]\n",
            " [0.04097769 0.82785165 0.13219177 0.61632935 0.66508289]\n",
            " [0.23348905 0.48204728 0.75895755 0.59343136 0.95402176]\n",
            " [0.32701814 0.45470016 0.02971357 0.74468323 0.8145523 ]\n",
            " [0.90046373 0.97020118 0.43717557 0.46281949 0.21892105]\n",
            " [0.28414042 0.44256909 0.06483485 0.3214349  0.17128945]\n",
            " [0.84304011 0.4097474  0.02337812 0.70215775 0.41123982]]\n",
            "\n",
            "KMEANS: trying 3 points\n",
            "INITIALIZE: initialize random centroids dict_keys([(np.float64(0.8430401066721843), np.float64(0.4097474049579195), np.float64(0.02337811540013346), np.float64(0.7021577528997135), np.float64(0.41123981535180487)), (np.float64(0.8481876317063832), np.float64(0.12877074028146973), np.float64(0.5073355327988645), np.float64(0.45023516388279783), np.float64(0.06564406292387781)), (np.float64(0.32701814418504926), np.float64(0.4547001575401455), np.float64(0.029713569976875465), np.float64(0.7446832314421675), np.float64(0.8145523031591655))])\n",
            "ASSIGN: assigned ppoint to centroid dict_keys([(np.float64(0.8430401066721843), np.float64(0.4097474049579195), np.float64(0.02337811540013346), np.float64(0.7021577528997135), np.float64(0.41123981535180487)), (np.float64(0.8481876317063832), np.float64(0.12877074028146973), np.float64(0.5073355327988645), np.float64(0.45023516388279783), np.float64(0.06564406292387781)), (np.float64(0.32701814418504926), np.float64(0.4547001575401455), np.float64(0.029713569976875465), np.float64(0.7446832314421675), np.float64(0.8145523031591655))])\n",
            "getting mean for [array([0.84818763, 0.12877074, 0.50733553, 0.45023516, 0.06564406]), array([0.35233447, 0.84095633, 0.76156281, 0.73555216, 0.67074456]), array([0.7952626 , 0.51798329, 0.77392941, 0.94782545, 0.42886629]), array([0.45191989, 0.23843531, 0.53360623, 0.6930491 , 0.359486  ]), array([0.04097769, 0.82785165, 0.13219177, 0.61632935, 0.66508289]), array([0.23348905, 0.48204728, 0.75895755, 0.59343136, 0.95402176]), array([0.32701814, 0.45470016, 0.02971357, 0.74468323, 0.8145523 ]), array([0.90046373, 0.97020118, 0.43717557, 0.46281949, 0.21892105]), array([0.28414042, 0.44256909, 0.06483485, 0.3214349 , 0.17128945]), array([0.84304011, 0.4097474 , 0.02337812, 0.70215775, 0.41123982])] in (np.float64(0.32701814418504926), np.float64(0.4547001575401455), np.float64(0.029713569976875465), np.float64(0.7446832314421675), np.float64(0.8145523031591655))\n",
            "[0.50768337 0.53132624 0.40226854 0.6267518  0.47598482]\n",
            "UPDATE: updated centroids dict_keys([(np.float64(0.5076833725092665), np.float64(0.5313262430646037), np.float64(0.40226854127571093), np.float64(0.6267517952330355), np.float64(0.4759848195096882))])\n",
            "ASSIGN: assigned ppoint to centroid dict_keys([(np.float64(0.5076833725092665), np.float64(0.5313262430646037), np.float64(0.40226854127571093), np.float64(0.6267517952330355), np.float64(0.4759848195096882))])\n",
            "getting mean for [array([0.84818763, 0.12877074, 0.50733553, 0.45023516, 0.06564406]), array([0.35233447, 0.84095633, 0.76156281, 0.73555216, 0.67074456]), array([0.7952626 , 0.51798329, 0.77392941, 0.94782545, 0.42886629]), array([0.45191989, 0.23843531, 0.53360623, 0.6930491 , 0.359486  ]), array([0.04097769, 0.82785165, 0.13219177, 0.61632935, 0.66508289]), array([0.23348905, 0.48204728, 0.75895755, 0.59343136, 0.95402176]), array([0.32701814, 0.45470016, 0.02971357, 0.74468323, 0.8145523 ]), array([0.90046373, 0.97020118, 0.43717557, 0.46281949, 0.21892105]), array([0.28414042, 0.44256909, 0.06483485, 0.3214349 , 0.17128945]), array([0.84304011, 0.4097474 , 0.02337812, 0.70215775, 0.41123982])] in (np.float64(0.5076833725092665), np.float64(0.5313262430646037), np.float64(0.40226854127571093), np.float64(0.6267517952330355), np.float64(0.4759848195096882))\n",
            "[0.50768337 0.53132624 0.40226854 0.6267518  0.47598482]\n",
            "UPDATE: updated centroids dict_keys([(np.float64(0.5076833725092665), np.float64(0.5313262430646037), np.float64(0.40226854127571093), np.float64(0.6267517952330355), np.float64(0.4759848195096882))])\n",
            "RUN: reached stopping condition for change: [0. 0. 0. 0. 0.]\n",
            "(np.float64(0.5076833725092665), np.float64(0.5313262430646037), np.float64(0.40226854127571093), np.float64(0.6267517952330355), np.float64(0.4759848195096882)) [array([0.84818763, 0.12877074, 0.50733553, 0.45023516, 0.06564406]), array([0.35233447, 0.84095633, 0.76156281, 0.73555216, 0.67074456]), array([0.7952626 , 0.51798329, 0.77392941, 0.94782545, 0.42886629]), array([0.45191989, 0.23843531, 0.53360623, 0.6930491 , 0.359486  ]), array([0.04097769, 0.82785165, 0.13219177, 0.61632935, 0.66508289]), array([0.23348905, 0.48204728, 0.75895755, 0.59343136, 0.95402176]), array([0.32701814, 0.45470016, 0.02971357, 0.74468323, 0.8145523 ]), array([0.90046373, 0.97020118, 0.43717557, 0.46281949, 0.21892105]), array([0.28414042, 0.44256909, 0.06483485, 0.3214349 , 0.17128945]), array([0.84304011, 0.4097474 , 0.02337812, 0.70215775, 0.41123982])]\n"
          ]
        }
      ]
    },
    {
      "cell_type": "code",
      "source": [
        "data.shape[0]\n",
        "np.random.choice(data.shape[0], )"
      ],
      "metadata": {
        "colab": {
          "base_uri": "https://localhost:8080/"
        },
        "id": "UPZVFE6d-x82",
        "outputId": "075df7c4-ba00-4f09-af41-5d8995e95def"
      },
      "execution_count": null,
      "outputs": [
        {
          "output_type": "execute_result",
          "data": {
            "text/plain": [
              "10"
            ]
          },
          "metadata": {},
          "execution_count": 81
        }
      ]
    }
  ]
}